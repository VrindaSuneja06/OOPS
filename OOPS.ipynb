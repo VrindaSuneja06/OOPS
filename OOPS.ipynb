{
  "nbformat": 4,
  "nbformat_minor": 0,
  "metadata": {
    "colab": {
      "provenance": []
    },
    "kernelspec": {
      "name": "python3",
      "display_name": "Python 3"
    },
    "language_info": {
      "name": "python"
    }
  },
  "cells": [
    {
      "cell_type": "markdown",
      "source": [
        "**THEORY :**"
      ],
      "metadata": {
        "id": "0__8XMUrYiZW"
      }
    },
    {
      "cell_type": "markdown",
      "source": [
        "1.What is Object-Oriented Programming (OOP)?\n",
        "OOP is a programming paradigm that organizes code using objects and classes.\n",
        "It helps in structuring programs by bundling related data and behaviors together.\n",
        "Example: Python, Java, and C++ .\n",
        "\n",
        "2.What is a class in OOP?\n",
        "A class is a blueprint for creating objects.It defines attributes (data) and methods (functions).\n",
        "\n",
        "3.What is an object in OOP?\n",
        "An object is an instance of a class.\n",
        "It contains data (attributes) and behaviors (methods).\n",
        "\n",
        "4.What is the difference between abstraction and encapsulation?\n",
        "Abstraction: Hides unnecessary details and only shows the essential parts.\n",
        "Encapsulation: Restricts direct access to some data.\n",
        "\n",
        "5.What are dunder methods in Python?\n",
        "Dunder (double underscore) methods are special methods with __ before and after their name.\n",
        "\n",
        "6.Explain the concept of inheritance in OOP.\n",
        "Inheritance allows a class to inherit methods and attributes from another class.\n",
        "\n",
        "7.What is polymorphism in OOP?\n",
        "Polymorphism allows different classes to have the same method but different implementations.\n",
        "\n",
        "8.How is encapsulation achieved in Python?\n",
        "By using private attributes (__var) and getter/setter methods.\n",
        "\n",
        "9.What is a constructor in Python?\n",
        "Constructor is a special method that runs when an object is created.\n",
        "\n",
        "10.What are class and static methods in Python?\n",
        "Class method  operates on the class itself.\n",
        "Static method doesn’t use class or instance variables.\n",
        "\n",
        "11.What is method overloading in Python?\n",
        "Method overloading means creating various methods with the same name using different types or parameters.\n",
        "\n",
        "12.What is method overriding in OOP?\n",
        "When a child class provides a new implementation of a method from the parent class.\n",
        "\n",
        "13.What is a property decorator in Python?\n",
        "The Python property decorator makes attributes in a class act like read-only properties.\n",
        "\n",
        "14.Why is polymorphism important in OOP?\n",
        "It allows flexibility and code reusability by enabling a single interface for multiple types.\n",
        "\n",
        "15.What is an abstract class in Python?\n",
        "An abstract class cannot be instantiated and must have at least one abstract method.\n",
        "\n",
        "16.What are the advantages of OOP?\n",
        "Code reuse\n",
        "Scalability\n",
        "Encapsulation for security\n",
        "Easy maintenance\n",
        "\n",
        "17.Difference between a class variable and an instance variable?\n",
        "Class variables are defined within the class but outside of any class methods. Instance variables are defined within class methods, typically the constructor.\n",
        "\n",
        "18.What is multiple inheritance in Python?\n",
        "A class inherits from multiple parent classes.\n",
        "A feature where a class can inherit attributes and methods from more than one parent class.\n",
        "\n",
        "19.Purpose of __str__ and __repr__ methods in Python?\n",
        "__str__() is for creating a readable representation of an object for end-users. __repr__() is for creating a detailed and precise representation for developers.\n",
        "\n",
        "20.Significance of super() in Python?\n",
        "Calls a method from the parent class.\n",
        "\n",
        "21.Significance of __del__ method in Python?\n",
        "__del__ is a destructor called when an object is deleted.\n",
        "\n",
        "22.Difference between staticmethod and classmethod?\n",
        "A class method takes cls as the first parameter while a static method needs no specific parameters.\n",
        "A class method can access or modify the class state while a static method can't access or modify it.\n",
        "\n",
        "23.How does polymorphism work in Python with inheritance?\n",
        "In Python, polymorphism, when used with inheritance, allows objects of different classes (usually child classes inheriting from a common parent class) to respond to the same method call in different ways.\n",
        "\n",
        "24.What is method chaining in Python OOP?\n",
        "Calling multiple methods on the same object.\n",
        "\n",
        "25.Purpose of the __call__ method in Python?\n",
        "Makes an object callable like a function.\n",
        "\n",
        "\n"
      ],
      "metadata": {
        "id": "gza95y30UPea"
      }
    },
    {
      "cell_type": "markdown",
      "source": [
        "**CODE**"
      ],
      "metadata": {
        "id": "AHTLbl3gYgba"
      }
    },
    {
      "cell_type": "code",
      "source": [
        "#1\n",
        "class Animal:\n",
        "    def speak(self):\n",
        "        print(\"Animal speaks\")\n",
        "\n",
        "class Dog(Animal):\n",
        "    def speak(self):\n",
        "        print(\"Bark!\")\n",
        "\n",
        "d = Dog()\n",
        "d.speak()"
      ],
      "metadata": {
        "colab": {
          "base_uri": "https://localhost:8080/"
        },
        "id": "ty8zEgyrYohi",
        "outputId": "be8e4519-6e4e-4984-c2b5-ca25bc4b6c14"
      },
      "execution_count": 1,
      "outputs": [
        {
          "output_type": "stream",
          "name": "stdout",
          "text": [
            "Bark!\n"
          ]
        }
      ]
    },
    {
      "cell_type": "code",
      "source": [
        "#2\n",
        "from abc import ABC, abstractmethod\n",
        "\n",
        "class Shape(ABC):\n",
        "    @abstractmethod\n",
        "    def area(self):\n",
        "        pass\n",
        "\n",
        "class Circle(Shape):\n",
        "    def __init__(self, radius):\n",
        "        self.radius = radius\n",
        "\n",
        "    def area(self):\n",
        "        return 3.14 * self.radius * self.radius\n",
        "\n",
        "class Rectangle(Shape):\n",
        "    def __init__(self, width, height):\n",
        "        self.width = width\n",
        "        self.height = height\n",
        "\n",
        "    def area(self):\n",
        "        return self.width * self.height\n",
        "\n",
        "c = Circle(5)\n",
        "r = Rectangle(4, 6)\n",
        "print(c.area())\n",
        "print(r.area())"
      ],
      "metadata": {
        "colab": {
          "base_uri": "https://localhost:8080/"
        },
        "id": "OW335gTBaZm0",
        "outputId": "14426790-cf5d-49b2-aef7-d97334e9a18b"
      },
      "execution_count": 2,
      "outputs": [
        {
          "output_type": "stream",
          "name": "stdout",
          "text": [
            "78.5\n",
            "24\n"
          ]
        }
      ]
    },
    {
      "cell_type": "code",
      "source": [
        "#3\n",
        "class Vehicle:\n",
        "    def __init__(self, type):\n",
        "        self.type = type\n",
        "\n",
        "class Car(Vehicle):\n",
        "    def __init__(self, type, brand):\n",
        "        super().__init__(type)\n",
        "        self.brand = brand\n",
        "\n",
        "class ElectricCar(Car):\n",
        "    def __init__(self, type, brand, battery):\n",
        "        super().__init__(type, brand)\n",
        "        self.battery = battery\n",
        "\n",
        "ec = ElectricCar(\"Sedan\", \"Tesla\", \"100 kWh\")\n",
        "print(ec.type, ec.brand, ec.battery)"
      ],
      "metadata": {
        "colab": {
          "base_uri": "https://localhost:8080/"
        },
        "id": "SQXukNp5a54g",
        "outputId": "15dcf424-4b91-4009-87fd-14589bd37ab2"
      },
      "execution_count": 3,
      "outputs": [
        {
          "output_type": "stream",
          "name": "stdout",
          "text": [
            "Sedan Tesla 100 kWh\n"
          ]
        }
      ]
    },
    {
      "cell_type": "code",
      "source": [
        "#4\n",
        "class Vehicle:\n",
        "    def __init__(self, type):\n",
        "        self.type = type\n",
        "\n",
        "class Car(Vehicle):\n",
        "    def __init__(self, type, brand):\n",
        "        super().__init__(type)\n",
        "        self.brand = brand\n",
        "\n",
        "class ElectricCar(Car):\n",
        "    def __init__(self, type, brand, battery):\n",
        "        super().__init__(type, brand)\n",
        "        self.battery = battery\n",
        "\n",
        "ec = ElectricCar(\"Sedan\", \"Tesla\", \"100 kWh\")\n",
        "print(ec.type, ec.brand, ec.battery)"
      ],
      "metadata": {
        "colab": {
          "base_uri": "https://localhost:8080/"
        },
        "id": "Psl9c-DgbC54",
        "outputId": "ec6cab48-100a-4472-a4e1-317fefdaa3c8"
      },
      "execution_count": 4,
      "outputs": [
        {
          "output_type": "stream",
          "name": "stdout",
          "text": [
            "Sedan Tesla 100 kWh\n"
          ]
        }
      ]
    },
    {
      "cell_type": "code",
      "source": [
        "#5\n",
        "class BankAccount:\n",
        "    def __init__(self, balance):\n",
        "        self.__balance = balance\n",
        "\n",
        "    def deposit(self, amount):\n",
        "        self.__balance += amount\n",
        "\n",
        "    def withdraw(self, amount):\n",
        "        if amount <= self.__balance:\n",
        "            self.__balance -= amount\n",
        "        else:\n",
        "            print(\"Insufficient balance\")\n",
        "\n",
        "    def get_balance(self):\n",
        "        return self.__balance\n",
        "\n",
        "account = BankAccount(500)\n",
        "account.deposit(200)\n",
        "account.withdraw(100)\n",
        "print(account.get_balance())\n"
      ],
      "metadata": {
        "colab": {
          "base_uri": "https://localhost:8080/"
        },
        "id": "4UlHqDtjbFRg",
        "outputId": "7c47f30c-6e04-4b64-a099-54e708bf4623"
      },
      "execution_count": 5,
      "outputs": [
        {
          "output_type": "stream",
          "name": "stdout",
          "text": [
            "600\n"
          ]
        }
      ]
    },
    {
      "cell_type": "code",
      "source": [
        "#6\n",
        "class Instrument:\n",
        "    def play(self):\n",
        "        print(\"Playing an instrument\")\n",
        "\n",
        "class Guitar(Instrument):\n",
        "    def play(self):\n",
        "        print(\"Strumming guitar\")\n",
        "\n",
        "class Piano(Instrument):\n",
        "    def play(self):\n",
        "        print(\"Playing piano\")\n",
        "\n",
        "instruments = [Guitar(), Piano()]\n",
        "for inst in instruments:\n",
        "    inst.play()"
      ],
      "metadata": {
        "colab": {
          "base_uri": "https://localhost:8080/"
        },
        "id": "qBYdcFscbLdv",
        "outputId": "4af5e47d-1d3e-471f-8b68-5c7daf81a2a2"
      },
      "execution_count": 6,
      "outputs": [
        {
          "output_type": "stream",
          "name": "stdout",
          "text": [
            "Strumming guitar\n",
            "Playing piano\n"
          ]
        }
      ]
    },
    {
      "cell_type": "code",
      "source": [
        "#7\n",
        "class MathOperations:\n",
        "    @classmethod\n",
        "    def add_numbers(cls, a, b):\n",
        "        return a + b\n",
        "\n",
        "    @staticmethod\n",
        "    def subtract_numbers(a, b):\n",
        "        return a - b\n",
        "\n",
        "print(MathOperations.add_numbers(5, 3))\n",
        "print(MathOperations.subtract_numbers(10, 4))\n"
      ],
      "metadata": {
        "colab": {
          "base_uri": "https://localhost:8080/"
        },
        "id": "3SwAbI-cbUh4",
        "outputId": "17882e78-1afb-4a03-85f1-cff6715bbea3"
      },
      "execution_count": 9,
      "outputs": [
        {
          "output_type": "stream",
          "name": "stdout",
          "text": [
            "8\n",
            "6\n"
          ]
        }
      ]
    },
    {
      "cell_type": "code",
      "source": [
        "#8\n",
        "class Person:\n",
        "    count = 0\n",
        "\n",
        "    def __init__(self, name):\n",
        "        self.name = name\n",
        "        Person.count += 1\n",
        "\n",
        "    @classmethod\n",
        "    def total_persons(cls):\n",
        "        return cls.count\n",
        "\n",
        "p1 = Person(\"Alice\")\n",
        "p2 = Person(\"Bob\")\n",
        "print(Person.total_persons())\n"
      ],
      "metadata": {
        "colab": {
          "base_uri": "https://localhost:8080/"
        },
        "id": "MwLQK4s7bWLQ",
        "outputId": "329e7054-b5c3-4b7c-a040-011f8bd129c4"
      },
      "execution_count": 10,
      "outputs": [
        {
          "output_type": "stream",
          "name": "stdout",
          "text": [
            "2\n"
          ]
        }
      ]
    },
    {
      "cell_type": "code",
      "source": [
        "#9\n",
        "class Fraction:\n",
        "    def __init__(self, numerator, denominator):\n",
        "        self.numerator = numerator\n",
        "        self.denominator = denominator\n",
        "\n",
        "    def __str__(self):\n",
        "        return f\"{self.numerator}/{self.denominator}\"\n",
        "\n",
        "f = Fraction(3, 4)\n",
        "print(f)"
      ],
      "metadata": {
        "colab": {
          "base_uri": "https://localhost:8080/"
        },
        "id": "lhd-V1C2bYFz",
        "outputId": "2464c000-33e2-4f6f-db4f-17475e64f730"
      },
      "execution_count": 11,
      "outputs": [
        {
          "output_type": "stream",
          "name": "stdout",
          "text": [
            "3/4\n"
          ]
        }
      ]
    },
    {
      "cell_type": "code",
      "source": [
        "#10\n",
        "class Vector:\n",
        "    def __init__(self, x, y):\n",
        "        self.x = x\n",
        "        self.y = y\n",
        "\n",
        "    def __add__(self, other):\n",
        "        return Vector(self.x + other.x, self.y + other.y)\n",
        "\n",
        "v1 = Vector(2, 3)\n",
        "v2 = Vector(4, 5)\n",
        "v3 = v1 + v2\n",
        "print(v3.x, v3.y)"
      ],
      "metadata": {
        "colab": {
          "base_uri": "https://localhost:8080/"
        },
        "id": "kQ730wqObagJ",
        "outputId": "ce536896-b5b8-4de5-d39b-9da6b22355d1"
      },
      "execution_count": 12,
      "outputs": [
        {
          "output_type": "stream",
          "name": "stdout",
          "text": [
            "6 8\n"
          ]
        }
      ]
    },
    {
      "cell_type": "code",
      "source": [
        "#11\n",
        "class Person:\n",
        "    def __init__(self, name, age):\n",
        "        self.name = name\n",
        "        self.age = age\n",
        "\n",
        "    def greet(self):\n",
        "        print(f\"Hello, my name is {self.name} and I am {self.age} years old.\")\n",
        "\n",
        "p = Person(\"VRINDA\", 20)\n",
        "p.greet()"
      ],
      "metadata": {
        "colab": {
          "base_uri": "https://localhost:8080/"
        },
        "id": "JSeizS1Xbb1U",
        "outputId": "7f8da15e-b1fc-4ebf-baae-9743567cdba7"
      },
      "execution_count": 13,
      "outputs": [
        {
          "output_type": "stream",
          "name": "stdout",
          "text": [
            "Hello, my name is VRINDA and I am 20 years old.\n"
          ]
        }
      ]
    },
    {
      "cell_type": "code",
      "source": [
        "#12\n",
        "class Student:\n",
        "    def __init__(self, name, grades):\n",
        "        self.name = name\n",
        "        self.grades = grades\n",
        "\n",
        "    def average_grade(self):\n",
        "        return sum(self.grades) / len(self.grades)\n",
        "\n",
        "s = Student(\"Vrinda\", [85, 90, 78])\n",
        "print(s.average_grade())"
      ],
      "metadata": {
        "colab": {
          "base_uri": "https://localhost:8080/"
        },
        "id": "I3Q7gyPJcC_v",
        "outputId": "5db60880-9dcf-4c72-c168-a292256125e6"
      },
      "execution_count": 14,
      "outputs": [
        {
          "output_type": "stream",
          "name": "stdout",
          "text": [
            "84.33333333333333\n"
          ]
        }
      ]
    },
    {
      "cell_type": "code",
      "source": [
        "#13\n",
        "class Rectangle:\n",
        "    def set_dimensions(self, width, height):\n",
        "        self.width = width\n",
        "        self.height = height\n",
        "\n",
        "    def area(self):\n",
        "        return self.width * self.height\n",
        "\n",
        "rect = Rectangle()\n",
        "rect.set_dimensions(5, 10)\n",
        "print(rect.area())"
      ],
      "metadata": {
        "colab": {
          "base_uri": "https://localhost:8080/"
        },
        "id": "7qdxZjlqcLXo",
        "outputId": "6589966e-4394-4e09-90cf-09a911317193"
      },
      "execution_count": 15,
      "outputs": [
        {
          "output_type": "stream",
          "name": "stdout",
          "text": [
            "50\n"
          ]
        }
      ]
    },
    {
      "cell_type": "code",
      "source": [
        "#14\n",
        "class Employee:\n",
        "    def __init__(self, hours_worked, hourly_rate):\n",
        "        self.hours_worked = hours_worked\n",
        "        self.hourly_rate = hourly_rate\n",
        "\n",
        "    def calculate_salary(self):\n",
        "        return self.hours_worked * self.hourly_rate\n",
        "\n",
        "class Manager(Employee):\n",
        "    def __init__(self, hours_worked, hourly_rate, bonus):\n",
        "        super().__init__(hours_worked, hourly_rate)\n",
        "        self.bonus = bonus\n",
        "\n",
        "    def calculate_salary(self):\n",
        "        return super().calculate_salary() + self.bonus\n",
        "\n",
        "m = Manager(40, 50, 500)\n",
        "print(m.calculate_salary())"
      ],
      "metadata": {
        "colab": {
          "base_uri": "https://localhost:8080/"
        },
        "id": "ej7V-t-3cQpA",
        "outputId": "f56d966d-56d9-4e83-a429-c8f9aa163fda"
      },
      "execution_count": 16,
      "outputs": [
        {
          "output_type": "stream",
          "name": "stdout",
          "text": [
            "2500\n"
          ]
        }
      ]
    }
  ]
}